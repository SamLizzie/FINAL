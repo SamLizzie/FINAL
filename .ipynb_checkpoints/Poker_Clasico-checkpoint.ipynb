{
 "cells": [
  {
   "cell_type": "markdown",
   "metadata": {},
   "source": [
    "# Pruebas Ejercicio Poker"
   ]
  },
  {
   "cell_type": "markdown",
   "metadata": {},
   "source": [
    "## Pruebas para detectar mano "
   ]
  },
  {
   "cell_type": "markdown",
   "metadata": {},
   "source": [
    "### Pruebas con numpy"
   ]
  },
  {
   "cell_type": "code",
   "execution_count": 143,
   "metadata": {},
   "outputs": [
    {
     "name": "stdout",
     "output_type": "stream",
     "text": [
      "[4, 1, 4, 1, 6]\n",
      "[1 2]\n"
     ]
    }
   ],
   "source": [
    "import numpy as np\n",
    "\n",
    "jugador2 = [(4, 'T'), (1, 'T'), (4, 'T'), (1, 'T'), (6, 'N')]\n",
    "elementos = []\n",
    "for i in jugador2:\n",
    "    elementos.append(i[0])\n",
    "print(elementos)\n",
    "ele_array = np.array(elementos)\n",
    "\n",
    "lista = []\n",
    "for i in ele_array:\n",
    "    lista.append(np.count_nonzero(ele_array == i))\n",
    "\n",
    "arr_lista = np.array(lista)\n",
    "valores = np.unique(arr_lista) \n",
    "print(valores)\n",
    "\n",
    "for i in valores:\n",
    "    if i >= 4:\n",
    "        print(\"Poker\")"
   ]
  },
  {
   "cell_type": "code",
   "execution_count": 50,
   "metadata": {},
   "outputs": [
    {
     "name": "stdout",
     "output_type": "stream",
     "text": [
      "[3, 3, 3, 1, 1]\n",
      "[2 3]\n",
      "Trio\n"
     ]
    }
   ],
   "source": [
    "jugador2 = [(4, 'T'), (1, 'T'), (1, 'T'), (1, 'T'), (6, 'N')]\n",
    "jugador1 = [(4, 'T'), (1, 'T'), (4, 'T'), (1, 'T'), (6, 'N')]\n",
    "jugador3 = [(3, 'T'), (3, 'T'), (3, 'T'), (1, 'T'), (1, 'N')]\n",
    "elementos = []\n",
    "for i in jugador3:\n",
    "    elementos.append(i[0])\n",
    "print(elementos)\n",
    "ele_array = np.array(elementos)\n",
    "\n",
    "lista = []\n",
    "for i in ele_array:\n",
    "    lista.append(np.count_nonzero(ele_array == i))\n",
    "\n",
    "arr_lista = np.array(lista)\n",
    "valores = np.unique(arr_lista) \n",
    "print(valores)\n",
    "\n",
    "for i in valores:\n",
    "    if i >= 3:\n",
    "        print(\"Trio\")"
   ]
  },
  {
   "cell_type": "markdown",
   "metadata": {},
   "source": [
    "### Pruebas con numpy y collections"
   ]
  },
  {
   "cell_type": "code",
   "execution_count": 71,
   "metadata": {},
   "outputs": [
    {
     "name": "stdout",
     "output_type": "stream",
     "text": [
      "Counter({4: 2, 3: 1, 6: 1, 5: 1})\n",
      "No\n",
      "No\n",
      "No\n",
      "Una pareja\n"
     ]
    }
   ],
   "source": [
    "import numpy as np\n",
    "import collections\n",
    "\n",
    "jugador2 = [(4, 'T'), (4, 'T'), (3, 'T'), (6, 'T'), (5, 'N')]\n",
    "elementos = []\n",
    "for i in jugador2:\n",
    "    elementos.append(i[0])\n",
    "\n",
    "contador = collections.Counter(elementos)\n",
    "print(contador)\n",
    "solucion = \"Poker\" if (4 in contador.values()) else \"\"\n",
    "\n",
    "solucion = \"Full house\" if (3 in contador.values() and 2 in contador.values()) else \"\"\n",
    "\n",
    "solucion = \"Trio\" if (3 in contador.values() and 1 in contador.values()) else \"No\"\n",
    "\n",
    "if 2 in contador.values() and 1 in contador.values():\n",
    "    cont = collections.Counter(contador.values())\n",
    "    solucion = \"Doble pareja\" if 2 in cont.values() else \"Una pareja\"\n",
    "\n",
    "\n"
   ]
  },
  {
   "cell_type": "markdown",
   "metadata": {},
   "source": [
    "### Pruebas collections"
   ]
  },
  {
   "cell_type": "code",
   "execution_count": 111,
   "metadata": {},
   "outputs": [
    {
     "name": "stdout",
     "output_type": "stream",
     "text": [
      "Color\n"
     ]
    }
   ],
   "source": [
    "jugador1 = [(1, 'T'), (10, 'T'), (11, 'T'), (12, 'T'), (13, 'T')]\n",
    "jugador2 = [(1, 'T'), (2, 'T'), (3, 'T'), (4, 'T'), (5, 'T')]\n",
    "jugador3 = [(2, 'C'), (10, 'C'), (11, 'C'), (12, 'C'), (13, 'C')]\n",
    "\n",
    "elementos_palos = []\n",
    "elementos_valor = []\n",
    "valores_escalera = [15,20,25,30,35,40,45,50,55,47]\n",
    "\n",
    "for i in jugador3:\n",
    "    elementos_palos.append(i[1]) # Lista de los palos de las 5 cartas del jugador\n",
    "    elementos_valor.append(i[0]) # Lista de los números de las 5 cartas del jugador\n",
    "\n",
    "contador_palos = collections.Counter(elementos_palos)\n",
    "contador_valor = collections.Counter(elementos_valor)\n",
    "if 5 in contador_palos.values():\n",
    "    if sum(elementos_valor) == 47:\n",
    "        print(\"Escalera real\" )\n",
    "    elif sum(elementos_valor) in valores_escalera:\n",
    "        print(\"Escalera de color\")\n",
    "    elif sum(elementos_valor) not in valores_escalera:\n",
    "        print(\"Color\")\n",
    "elif 1 in contador_palos.values() and sum(elementos_valor) in valores_escalera:\n",
    "        print(\"Escalera\" )\n",
    "        \n",
    "        "
   ]
  },
  {
   "cell_type": "code",
   "execution_count": 137,
   "metadata": {},
   "outputs": [
    {
     "name": "stdout",
     "output_type": "stream",
     "text": [
      "Trío\n"
     ]
    }
   ],
   "source": [
    "jugadores = []\n",
    "\n",
    "jugador0 = [(2, 'T'), (10, 'T'), (6, 'T'), (12, 'D'), (13, 'T')] # Color\n",
    "jugador1 = [(4, 'T'), (4, 'T'), (3, 'T'), (6, 'T'), (5, 'T')] # Una pareja\n",
    "jugador2 = [(4, 'T'), (4, 'T'), (3, 'T'), (3, 'T'), (5, 'T')] # Doble pareja\n",
    "jugador3 = [(1, 'T'), (1, 'T'), (1, 'D'), (12, 'T'), (13, 'T')] # Trío*\n",
    "jugador4 = [(1, 'T'), (2, 'C'), (3, 'T'), (4, 'T'), (5, 'T')] # Escalera\n",
    "jugador5 = [(2, 'T'), (10, 'T'), (6, 'D'), (12, 'T'), (13, 'T')] # Color\n",
    "jugador6 = [(4, 'T'), (4, 'T'), (4, 'T'), (2, 'T'), (2, 'T')] # Full house\n",
    "jugador7 = [(4, 'T'), (4, 'T'), (4, 'T'), (4, 'T'), (2, 'T')] # Poker\n",
    "jugador8 = [(1, 'T'), (2, 'T'), (3, 'T'), (4, 'T'), (5, 'T')] # Escalera de color\n",
    "jugador9 = [(1, 'T'), (10, 'T'), (11, 'T'), (12, 'T'), (13, 'T')] # Escalera de color\n",
    "\n",
    "jugadores = [jugador0,jugador1,jugador2,jugador3,jugador4,jugador5,jugador6,jugador7,jugador8,jugador9]\n",
    "\n",
    "elementos_palos = []\n",
    "elementos_valor = []\n",
    "valores_escalera = [15,20,25,30,35,40,45,50,55,47]\n",
    "\n",
    "for i in jugador3:\n",
    "    elementos_palos.append(i[1]) # Lista de los palos de las 5 cartas del jugador\n",
    "    elementos_valor.append(i[0]) # Lista de los números de las 5 cartas del jugador\n",
    "\n",
    "contador_palos = collections.Counter(elementos_palos)\n",
    "contador_valor = collections.Counter(elementos_valor)\n",
    "\n",
    "if 5 in contador_palos.values() and sum(elementos_valor) == 47:\n",
    "    print(\"Escalera real\" )\n",
    "elif sum(elementos_valor) in valores_escalera and 5 in contador_palos.values():\n",
    "    print(\"Escalera de color\")\n",
    "elif 4 in contador_valor.values():\n",
    "    print(\"Poker\") \n",
    "elif 3 in contador_valor.values() and 2 in contador_valor.values():\n",
    "    print(\"Full house\")\n",
    "elif 5 in contador_palos.values():\n",
    "    print(\"Color\")\n",
    "elif 1 in contador_palos.values() and sum(elementos_valor) in valores_escalera:\n",
    "    print(\"Escalera\" )    \n",
    "elif 3 in contador_valor.values() and 1 in contador_valor.values():\n",
    "    print(\"Trío\" )\n",
    "elif 2 in contador_valor.values() and 1 in contador_valor.values():\n",
    "    cont = collections.Counter(contador_valor.values())\n",
    "    print(\"Doble pareja\" if 2 in cont.values() else \"Una pareja\")\n",
    "else:\n",
    "    print(\"Carta alta\")"
   ]
  },
  {
   "cell_type": "markdown",
   "metadata": {},
   "source": [
    "# Código para detectar la mano "
   ]
  },
  {
   "cell_type": "code",
   "execution_count": 27,
   "metadata": {},
   "outputs": [
    {
     "name": "stdout",
     "output_type": "stream",
     "text": [
      "['Carta alta', 'Una pareja', 'Doble pareja', 'Trío', 'Escalera', 'Color', 'Full house', 'Poker', 'Escalera de color', 'Escalera real']\n"
     ]
    }
   ],
   "source": [
    "import collections\n",
    "\n",
    "valores_escalera = [15,20,25,30,35,40,45,50,55,47]\n",
    "respuesta = []\n",
    "jugadores = []\n",
    "\n",
    "jugador0 = [(2, 'T'), (10, 'T'), (6, 'T'), (12, 'D'), (13, 'T')] # Color\n",
    "jugador1 = [(4, 'T'), (4, 'D'), (3, 'T'), (6, 'T'), (5, 'T')] # Una pareja\n",
    "jugador2 = [(4, 'T'), (4, 'C'), (3, 'C'), (3, 'T'), (5, 'T')] # Doble pareja\n",
    "jugador3 = [(1, 'T'), (1, 'T'), (1, 'D'), (12, 'T'), (13, 'T')] # Trío\n",
    "jugador4 = [(1, 'T'), (2, 'C'), (3, 'T'), (4, 'T'), (5, 'T')] # Escalera\n",
    "jugador5 = [(2, 'T'), (10, 'T'), (6, 'T'), (12, 'T'), (13, 'T')] # Color\n",
    "jugador6 = [(4, 'T'), (4, 'T'), (4, 'T'), (2, 'T'), (2, 'T')] # Full house\n",
    "jugador7 = [(4, 'T'), (4, 'T'), (4, 'T'), (4, 'T'), (2, 'T')] # Poker\n",
    "jugador8 = [(1, 'T'), (2, 'T'), (3, 'T'), (4, 'T'), (5, 'T')] # Escalera de color\n",
    "jugador9 = [(1, 'T'), (10, 'T'), (11, 'T'), (12, 'T'), (13, 'T')] # Escalera de color\n",
    "\n",
    "jugadores = [jugador0,jugador1,jugador2,jugador3,jugador4,jugador5,jugador6,jugador7,jugador8,jugador9]\n",
    "\n",
    "for i in jugadores:\n",
    "    elementos_palos = []\n",
    "    elementos_valor = []\n",
    "    solucion = \"\"\n",
    "    for j in i:\n",
    "        elementos_palos.append(j[1]) # Lista de los palos de las 5 cartas del jugador\n",
    "        elementos_valor.append(j[0]) # Lista de los números de las 5 cartas del jugador\n",
    "        contador_palos = collections.Counter(elementos_palos)\n",
    "        contador_valor = collections.Counter(elementos_valor)\n",
    "\n",
    "        if 5 in contador_palos.values() and sum(elementos_valor) == 47:\n",
    "            solucion = \"Escalera real\"\n",
    "        elif sum(elementos_valor) in valores_escalera and 5 in contador_palos.values():\n",
    "            solucion = \"Escalera de color\"\n",
    "        elif 4 in contador_valor.values():\n",
    "            solucion = \"Poker\"\n",
    "        elif 3 in contador_valor.values() and 2 in contador_valor.values():\n",
    "            solucion = \"Full house\"\n",
    "        elif 5 in contador_palos.values():\n",
    "            solucion = \"Color\"\n",
    "        elif 1 in contador_palos.values() and sum(elementos_valor) in valores_escalera:\n",
    "            solucion = \"Escalera\"    \n",
    "        elif 3 in contador_valor.values() and 1 in contador_valor.values():\n",
    "            solucion = \"Trío\"\n",
    "        elif 2 in contador_valor.values() and 1 in contador_valor.values():\n",
    "            cont = collections.Counter(contador_valor.values())\n",
    "            solucion = \"Doble pareja\" if 2 in cont.values() else \"Una pareja\"\n",
    "        else:\n",
    "            solucion = \"Carta alta\"\n",
    "    respuesta.append(solucion)\n",
    "print(respuesta)"
   ]
  },
  {
   "cell_type": "markdown",
   "metadata": {},
   "source": [
    "## Formación de las cartas"
   ]
  },
  {
   "cell_type": "code",
   "execution_count": 8,
   "metadata": {},
   "outputs": [],
   "source": [
    "import random \n",
    "import collections"
   ]
  },
  {
   "cell_type": "code",
   "execution_count": 16,
   "metadata": {},
   "outputs": [],
   "source": [
    "def formacion_cartas():\n",
    "    cartas_valor = [1,2,3,4,5,6,7,8,9,10,11,12,13]\n",
    "    cartas_palos = [\"C\",\"T\",\"D\",\"N\"]\n",
    "    cartas = []\n",
    "\n",
    "    for carta_valor in cartas_valor:\n",
    "        for carta_palos in cartas_palos:\n",
    "            cartas.append((carta_valor,carta_palos))\n",
    "\n",
    "    cartas_barajadas = random.sample(cartas,k=len(cartas))\n",
    "    return cartas_barajadas"
   ]
  },
  {
   "cell_type": "markdown",
   "metadata": {},
   "source": [
    "## Código principal"
   ]
  },
  {
   "cell_type": "code",
   "execution_count": 25,
   "metadata": {},
   "outputs": [
    {
     "name": "stdout",
     "output_type": "stream",
     "text": [
      "1- Póker Clásico\n",
      "0- Salir\n",
      "Escoja el juego: 1\n",
      "\n",
      "Ingrese número de jugadores (Mínimo 2, Máximo 9): 2\n",
      "-------------------------------RONDA 1--------------------------------\n",
      "Jugador 1 : [(6, 'N'), (4, 'C'), (8, 'T'), (6, 'T'), (4, 'D')]\n",
      "Jugador 2 : [(12, 'T'), (2, 'D'), (7, 'N'), (13, 'D'), (7, 'D')]\n",
      "\n",
      "¿Quiere jugar otra ronda (si/no)? si\n",
      "-------------------------------RONDA 2--------------------------------\n",
      "Jugador 1 : [(2, 'T'), (2, 'C'), (9, 'C'), (3, 'D'), (10, 'C')]\n",
      "Jugador 2 : [(11, 'D'), (7, 'T'), (8, 'C'), (4, 'N'), (8, 'D')]\n",
      "\n",
      "¿Quiere jugar otra ronda (si/no)? si\n",
      "-------------------------------RONDA 3--------------------------------\n",
      "Jugador 1 : [(3, 'N'), (9, 'N'), (10, 'D'), (6, 'C'), (2, 'N')]\n",
      "Jugador 2 : [(11, 'C'), (5, 'C'), (13, 'N'), (3, 'C'), (9, 'D')]\n",
      "\n",
      "¿Quiere jugar otra ronda (si/no)? si\n",
      "-------------------------------RONDA 4--------------------------------\n",
      "Jugador 1 : [(6, 'D'), (13, 'T'), (1, 'N'), (10, 'N'), (3, 'T')]\n",
      "Jugador 2 : [(4, 'T'), (1, 'T'), (1, 'C'), (13, 'C'), (12, 'D')]\n",
      "\n",
      "¿Quiere jugar otra ronda (si/no)? no\n",
      "1- Póker Clásico\n",
      "0- Salir\n",
      "Escoja el juego: 0\n"
     ]
    }
   ],
   "source": [
    "opcion = \"\"\n",
    "\n",
    "while opcion != \"0\":\n",
    "    print(\"1- Póker Clásico\")\n",
    "    print(\"0- Salir\")\n",
    "    opcion = input(\"Escoja el juego: \")\n",
    "    \n",
    "    if opcion == \"1\":\n",
    "        cartas_barajadas = formacion_cartas()\n",
    "        \n",
    "        # Creación de cada jugador como variable (tipo lista)\n",
    "        numero_jugadores = int(input(\"\\nIngrese número de jugadores (Mínimo 2, Máximo 9): \"))\n",
    "        if (numero_jugadores >= 2 and numero_jugadores <= 9):\n",
    "            for numero in range(numero_jugadores):\n",
    "                vars()[\"jugador{}\".format(numero+1)] = []\n",
    "            \n",
    "            # CÓDIGO JUEGO\n",
    "            continua_juego=True\n",
    "            lista_jugadores=[]\n",
    "            numero_ronda=1\n",
    "            cartas_a_repartir=5\n",
    "            mano_jugadores=[]\n",
    "            \n",
    "            while continua_juego:\n",
    "                # Reparto cartas a los jugadores\n",
    "                for j in range(cartas_a_repartir):\n",
    "                    for i in range(numero_jugadores):\n",
    "                        locals()[\"jugador\"+str(i+1)].append(cartas_barajadas.pop(0))\n",
    "                        \n",
    "                #Guardo jugadores con sus cartas en: lista_jugadores\n",
    "                for k in range(numero_jugadores):\n",
    "                    lista_jugadores.append(locals()[\"jugador\"+str(k+1)])\n",
    "            \n",
    "                # Imprimo cartas de los jugadores, y determino mano ganadora de la ronda\n",
    "                print((\"RONDA {}\".format(numero_ronda)).center(70,\"-\"))\n",
    "                for i in range(numero_jugadores):\n",
    "                    print(\"Jugador\",i+1,\": {}\".format(locals()[\"jugador\"+str(i+1)]))\n",
    "                \n",
    "                # Determino si quiero otra ronda o no\n",
    "                ronda = input(\"\\n¿Quiere jugar otra ronda (si/no)? \")\n",
    "                \n",
    "                if ronda == \"si\":\n",
    "                    numero_cartas = numero_jugadores * 5\n",
    "                    if numero_cartas < len(cartas_barajadas):\n",
    "                        continua_juego = True\n",
    "                        numero_ronda +=1\n",
    "                        for k in range(numero_jugadores):\n",
    "                            locals()[\"jugador\"+str(k+1)] = []\n",
    "                            lista_jugadores = []\n",
    "                    else:\n",
    "                        cartas_barajadas = formacion_cartas()\n",
    "                        for k in range(numero_jugadores):\n",
    "                            locals()[\"jugador\"+str(k+1)] = []\n",
    "                            lista_jugadores = []\n",
    "                        continua_juego = True\n",
    "                        numero_ronda +=1\n",
    "                else:\n",
    "                    continua_juego = False           \n",
    "        else:\n",
    "            print(\"\\nNúmero inválido de jugadores\\n\")"
   ]
  },
  {
   "cell_type": "code",
   "execution_count": null,
   "metadata": {},
   "outputs": [],
   "source": []
  }
 ],
 "metadata": {
  "interpreter": {
   "hash": "62b90768e223cbdd6bcbae5648c80ab9e966b87aff3925009086c7cfea272dad"
  },
  "kernelspec": {
   "display_name": "Python 3",
   "language": "python",
   "name": "python3"
  },
  "language_info": {
   "codemirror_mode": {
    "name": "ipython",
    "version": 3
   },
   "file_extension": ".py",
   "mimetype": "text/x-python",
   "name": "python",
   "nbconvert_exporter": "python",
   "pygments_lexer": "ipython3",
   "version": "3.7.6"
  }
 },
 "nbformat": 4,
 "nbformat_minor": 2
}
