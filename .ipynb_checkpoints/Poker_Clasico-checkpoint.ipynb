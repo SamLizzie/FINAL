{
 "cells": [
  {
   "cell_type": "markdown",
   "metadata": {},
   "source": [
    "# Ejercicio Poker"
   ]
  },
  {
   "cell_type": "code",
   "execution_count": 71,
   "metadata": {},
   "outputs": [
    {
     "name": "stdout",
     "output_type": "stream",
     "text": [
      "Counter({4: 2, 3: 1, 6: 1, 5: 1})\n",
      "No\n",
      "No\n",
      "No\n",
      "Una pareja\n"
     ]
    }
   ],
   "source": [
    "import numpy as np\n",
    "import collections\n",
    "\n",
    "jugador2 = [(4, 'T'), (4, 'T'), (3, 'T'), (6, 'T'), (5, 'N')]\n",
    "elementos = []\n",
    "for i in jugador2:\n",
    "    elementos.append(i[0])\n",
    "\n",
    "contador = collections.Counter(elementos)\n",
    "print(contador)\n",
    "solucion = \"Poker\" if (4 in contador.values()) else \"\"\n",
    "\n",
    "solucion = \"Full house\" if (3 in contador.values() and 2 in contador.values()) else \"\"\n",
    "\n",
    "solucion = \"Trio\" if (3 in contador.values() and 1 in contador.values()) else \"No\"\n",
    "\n",
    "if 2 in contador.values() and 1 in contador.values():\n",
    "    cont = collections.Counter(contador.values())\n",
    "    solucion = \"Doble pareja\" if 2 in cont.values() else \"Una pareja\"\n",
    "\n",
    "\n"
   ]
  },
  {
   "cell_type": "code",
   "execution_count": 111,
   "metadata": {},
   "outputs": [
    {
     "name": "stdout",
     "output_type": "stream",
     "text": [
      "Color\n"
     ]
    }
   ],
   "source": [
    "jugador1 = [(1, 'T'), (10, 'T'), (11, 'T'), (12, 'T'), (13, 'T')]\n",
    "jugador2 = [(1, 'T'), (2, 'T'), (3, 'T'), (4, 'T'), (5, 'T')]\n",
    "jugador3 = [(2, 'C'), (10, 'C'), (11, 'C'), (12, 'C'), (13, 'C')]\n",
    "\n",
    "elementos_palos = []\n",
    "elementos_valor = []\n",
    "valores_escalera = [15,20,25,30,35,40,45,50,55,47]\n",
    "\n",
    "for i in jugador3:\n",
    "    elementos_palos.append(i[1]) # Lista de los palos de las 5 cartas del jugador\n",
    "    elementos_valor.append(i[0]) # Lista de los números de las 5 cartas del jugador\n",
    "\n",
    "contador_palos = collections.Counter(elementos_palos)\n",
    "contador_valor = collections.Counter(elementos_valor)\n",
    "if 5 in contador_palos.values():\n",
    "    if sum(elementos_valor) == 47:\n",
    "        print(\"Escalera real\" )\n",
    "    elif sum(elementos_valor) in valores_escalera:\n",
    "        print(\"Escalera de color\")\n",
    "    elif sum(elementos_valor) not in valores_escalera:\n",
    "        print(\"Color\")\n",
    "elif 1 in contador_palos.values() and sum(elementos_valor) in valores_escalera:\n",
    "        print(\"Escalera\" )\n",
    "        \n",
    "        "
   ]
  },
  {
   "cell_type": "code",
   "execution_count": 137,
   "metadata": {},
   "outputs": [
    {
     "name": "stdout",
     "output_type": "stream",
     "text": [
      "Trío\n"
     ]
    }
   ],
   "source": [
    "jugadores = []\n",
    "\n",
    "jugador0 = [(2, 'T'), (10, 'T'), (6, 'T'), (12, 'D'), (13, 'T')] # Color\n",
    "jugador1 = [(4, 'T'), (4, 'T'), (3, 'T'), (6, 'T'), (5, 'T')] # Una pareja\n",
    "jugador2 = [(4, 'T'), (4, 'T'), (3, 'T'), (3, 'T'), (5, 'T')] # Doble pareja\n",
    "jugador3 = [(1, 'T'), (1, 'T'), (1, 'D'), (12, 'T'), (13, 'T')] # Trío*\n",
    "jugador4 = [(1, 'T'), (2, 'C'), (3, 'T'), (4, 'T'), (5, 'T')] # Escalera\n",
    "jugador5 = [(2, 'T'), (10, 'T'), (6, 'D'), (12, 'T'), (13, 'T')] # Color\n",
    "jugador6 = [(4, 'T'), (4, 'T'), (4, 'T'), (2, 'T'), (2, 'T')] # Full house\n",
    "jugador7 = [(4, 'T'), (4, 'T'), (4, 'T'), (4, 'T'), (2, 'T')] # Poker\n",
    "jugador8 = [(1, 'T'), (2, 'T'), (3, 'T'), (4, 'T'), (5, 'T')] # Escalera de color\n",
    "jugador9 = [(1, 'T'), (10, 'T'), (11, 'T'), (12, 'T'), (13, 'T')] # Escalera de color\n",
    "\n",
    "jugadores = [jugador0,jugador1,jugador2,jugador3,jugador4,jugador5,jugador6,jugador7,jugador8,jugador9]\n",
    "\n",
    "elementos_palos = []\n",
    "elementos_valor = []\n",
    "valores_escalera = [15,20,25,30,35,40,45,50,55,47]\n",
    "\n",
    "for i in jugador3:\n",
    "    elementos_palos.append(i[1]) # Lista de los palos de las 5 cartas del jugador\n",
    "    elementos_valor.append(i[0]) # Lista de los números de las 5 cartas del jugador\n",
    "\n",
    "contador_palos = collections.Counter(elementos_palos)\n",
    "contador_valor = collections.Counter(elementos_valor)\n",
    "\n",
    "if 5 in contador_palos.values() and sum(elementos_valor) == 47:\n",
    "    print(\"Escalera real\" )\n",
    "elif sum(elementos_valor) in valores_escalera and 5 in contador_palos.values():\n",
    "    print(\"Escalera de color\")\n",
    "elif 4 in contador_valor.values():\n",
    "    print(\"Poker\") \n",
    "elif 3 in contador_valor.values() and 2 in contador_valor.values():\n",
    "    print(\"Full house\")\n",
    "elif 5 in contador_palos.values():\n",
    "    print(\"Color\")\n",
    "elif 1 in contador_palos.values() and sum(elementos_valor) in valores_escalera:\n",
    "    print(\"Escalera\" )    \n",
    "elif 3 in contador_valor.values() and 1 in contador_valor.values():\n",
    "    print(\"Trío\" )\n",
    "elif 2 in contador_valor.values() and 1 in contador_valor.values():\n",
    "    cont = collections.Counter(contador_valor.values())\n",
    "    print(\"Doble pareja\" if 2 in cont.values() else \"Una pareja\")\n",
    "else:\n",
    "    print(\"Carta alta\")"
   ]
  },
  {
   "cell_type": "code",
   "execution_count": 148,
   "metadata": {},
   "outputs": [
    {
     "name": "stdout",
     "output_type": "stream",
     "text": [
      "['Carta alta', 'Una pareja', 'Doble pareja', 'Trío', 'Escalera', 'Color', 'Full house', 'Poker', 'Escalera de color', 'Escalera real']\n"
     ]
    }
   ],
   "source": [
    "jugadores = []\n",
    "\n",
    "jugador0 = [(2, 'T'), (10, 'T'), (6, 'T'), (12, 'D'), (13, 'T')] # Color\n",
    "jugador1 = [(4, 'T'), (4, 'D'), (3, 'T'), (6, 'T'), (5, 'T')] # Una pareja\n",
    "jugador2 = [(4, 'T'), (4, 'C'), (3, 'C'), (3, 'T'), (5, 'T')] # Doble pareja\n",
    "jugador3 = [(1, 'T'), (1, 'T'), (1, 'D'), (12, 'T'), (13, 'T')] # Trío\n",
    "jugador4 = [(1, 'T'), (2, 'C'), (3, 'T'), (4, 'T'), (5, 'T')] # Escalera\n",
    "jugador5 = [(2, 'T'), (10, 'T'), (6, 'T'), (12, 'T'), (13, 'T')] # Color\n",
    "jugador6 = [(4, 'T'), (4, 'T'), (4, 'T'), (2, 'T'), (2, 'T')] # Full house\n",
    "jugador7 = [(4, 'T'), (4, 'T'), (4, 'T'), (4, 'T'), (2, 'T')] # Poker\n",
    "jugador8 = [(1, 'T'), (2, 'T'), (3, 'T'), (4, 'T'), (5, 'T')] # Escalera de color\n",
    "jugador9 = [(1, 'T'), (10, 'T'), (11, 'T'), (12, 'T'), (13, 'T')] # Escalera de color\n",
    "\n",
    "jugadores = [jugador0,jugador1,jugador2,jugador3,jugador4,jugador5,jugador6,jugador7,jugador8,jugador9]\n",
    "valores_escalera = [15,20,25,30,35,40,45,50,55,47]\n",
    "respuesta = []\n",
    "\n",
    "for i in jugadores:\n",
    "    elementos_palos = []\n",
    "    elementos_valor = []\n",
    "    solucion = \"\"\n",
    "    for j in i:\n",
    "        elementos_palos.append(j[1]) # Lista de los palos de las 5 cartas del jugador\n",
    "        elementos_valor.append(j[0]) # Lista de los números de las 5 cartas del jugador\n",
    "        contador_palos = collections.Counter(elementos_palos)\n",
    "        contador_valor = collections.Counter(elementos_valor)\n",
    "\n",
    "        if 5 in contador_palos.values() and sum(elementos_valor) == 47:\n",
    "            solucion = \"Escalera real\"\n",
    "        elif sum(elementos_valor) in valores_escalera and 5 in contador_palos.values():\n",
    "            solucion = \"Escalera de color\"\n",
    "        elif 4 in contador_valor.values():\n",
    "            solucion = \"Poker\"\n",
    "        elif 3 in contador_valor.values() and 2 in contador_valor.values():\n",
    "            solucion = \"Full house\"\n",
    "        elif 5 in contador_palos.values():\n",
    "            solucion = \"Color\"\n",
    "        elif 1 in contador_palos.values() and sum(elementos_valor) in valores_escalera:\n",
    "            solucion = \"Escalera\"    \n",
    "        elif 3 in contador_valor.values() and 1 in contador_valor.values():\n",
    "            solucion = \"Trío\"\n",
    "        elif 2 in contador_valor.values() and 1 in contador_valor.values():\n",
    "            cont = collections.Counter(contador_valor.values())\n",
    "            solucion = \"Doble pareja\" if 2 in cont.values() else \"Una pareja\"\n",
    "        else:\n",
    "            solucion = \"Carta alta\"\n",
    "    respuesta.append(solucion)\n",
    "print(respuesta)"
   ]
  },
  {
   "cell_type": "code",
   "execution_count": 143,
   "metadata": {},
   "outputs": [
    {
     "name": "stdout",
     "output_type": "stream",
     "text": [
      "[4, 1, 4, 1, 6]\n",
      "[1 2]\n"
     ]
    }
   ],
   "source": [
    "import numpy as np\n",
    "\n",
    "jugador2 = [(4, 'T'), (1, 'T'), (4, 'T'), (1, 'T'), (6, 'N')]\n",
    "elementos = []\n",
    "for i in jugador2:\n",
    "    elementos.append(i[0])\n",
    "print(elementos)\n",
    "ele_array = np.array(elementos)\n",
    "\n",
    "lista = []\n",
    "for i in ele_array:\n",
    "    lista.append(np.count_nonzero(ele_array == i))\n",
    "\n",
    "arr_lista = np.array(lista)\n",
    "valores = np.unique(arr_lista) \n",
    "print(valores)\n",
    "\n",
    "for i in valores:\n",
    "    if i >= 4:\n",
    "        print(\"Poker\")"
   ]
  },
  {
   "cell_type": "code",
   "execution_count": 50,
   "metadata": {},
   "outputs": [
    {
     "name": "stdout",
     "output_type": "stream",
     "text": [
      "[3, 3, 3, 1, 1]\n",
      "[2 3]\n",
      "Trio\n"
     ]
    }
   ],
   "source": [
    "jugador2 = [(4, 'T'), (1, 'T'), (1, 'T'), (1, 'T'), (6, 'N')]\n",
    "jugador1 = [(4, 'T'), (1, 'T'), (4, 'T'), (1, 'T'), (6, 'N')]\n",
    "jugador3 = [(3, 'T'), (3, 'T'), (3, 'T'), (1, 'T'), (1, 'N')]\n",
    "elementos = []\n",
    "for i in jugador3:\n",
    "    elementos.append(i[0])\n",
    "print(elementos)\n",
    "ele_array = np.array(elementos)\n",
    "\n",
    "lista = []\n",
    "for i in ele_array:\n",
    "    lista.append(np.count_nonzero(ele_array == i))\n",
    "\n",
    "arr_lista = np.array(lista)\n",
    "valores = np.unique(arr_lista) \n",
    "print(valores)\n",
    "\n",
    "for i in valores:\n",
    "    if i >= 3:\n",
    "        print(\"Trio\")"
   ]
  },
  {
   "cell_type": "code",
   "execution_count": 22,
   "metadata": {},
   "outputs": [
    {
     "name": "stdout",
     "output_type": "stream",
     "text": [
      "Cartas barajadas:\n",
      " [(7, 'N'), (13, 'C'), (7, 'C'), (5, 'D'), (10, 'N'), (6, 'C'), (6, 'T'), (4, 'C'), (9, 'N'), (2, 'D'), (10, 'T'), (12, 'T'), (5, 'N'), (3, 'C'), (2, 'T'), (12, 'C'), (3, 'T'), (9, 'D'), (13, 'N'), (7, 'T'), (1, 'D'), (6, 'D'), (11, 'N'), (2, 'N'), (5, 'C'), (8, 'T'), (1, 'C'), (9, 'C'), (9, 'T'), (7, 'D'), (8, 'D'), (3, 'N'), (5, 'T'), (4, 'N'), (1, 'N'), (4, 'T'), (11, 'T'), (11, 'C'), (13, 'D'), (2, 'C'), (6, 'N'), (10, 'D'), (8, 'N'), (8, 'C'), (12, 'N'), (1, 'T'), (11, 'D'), (13, 'T'), (4, 'D'), (3, 'D'), (10, 'C'), (12, 'D')] \n",
      "\n",
      "1- Póker clásico\n",
      "0- Salir\n",
      "Escoja el tipo de juego: 0\n"
     ]
    },
    {
     "ename": "KeyboardInterrupt",
     "evalue": "",
     "output_type": "error",
     "traceback": [
      "\u001b[1;31m---------------------------------------------------------------------------\u001b[0m",
      "\u001b[1;31mKeyboardInterrupt\u001b[0m                         Traceback (most recent call last)",
      "\u001b[1;32m~\\anaconda3\\lib\\site-packages\\ipykernel\\kernelbase.py\u001b[0m in \u001b[0;36m_input_request\u001b[1;34m(self, prompt, ident, parent, password)\u001b[0m\n\u001b[0;32m    883\u001b[0m             \u001b[1;32mtry\u001b[0m\u001b[1;33m:\u001b[0m\u001b[1;33m\u001b[0m\u001b[1;33m\u001b[0m\u001b[0m\n\u001b[1;32m--> 884\u001b[1;33m                 \u001b[0mident\u001b[0m\u001b[1;33m,\u001b[0m \u001b[0mreply\u001b[0m \u001b[1;33m=\u001b[0m \u001b[0mself\u001b[0m\u001b[1;33m.\u001b[0m\u001b[0msession\u001b[0m\u001b[1;33m.\u001b[0m\u001b[0mrecv\u001b[0m\u001b[1;33m(\u001b[0m\u001b[0mself\u001b[0m\u001b[1;33m.\u001b[0m\u001b[0mstdin_socket\u001b[0m\u001b[1;33m,\u001b[0m \u001b[1;36m0\u001b[0m\u001b[1;33m)\u001b[0m\u001b[1;33m\u001b[0m\u001b[1;33m\u001b[0m\u001b[0m\n\u001b[0m\u001b[0;32m    885\u001b[0m             \u001b[1;32mexcept\u001b[0m \u001b[0mException\u001b[0m\u001b[1;33m:\u001b[0m\u001b[1;33m\u001b[0m\u001b[1;33m\u001b[0m\u001b[0m\n",
      "\u001b[1;32m~\\anaconda3\\lib\\site-packages\\jupyter_client\\session.py\u001b[0m in \u001b[0;36mrecv\u001b[1;34m(self, socket, mode, content, copy)\u001b[0m\n\u001b[0;32m    802\u001b[0m         \u001b[1;32mtry\u001b[0m\u001b[1;33m:\u001b[0m\u001b[1;33m\u001b[0m\u001b[1;33m\u001b[0m\u001b[0m\n\u001b[1;32m--> 803\u001b[1;33m             \u001b[0mmsg_list\u001b[0m \u001b[1;33m=\u001b[0m \u001b[0msocket\u001b[0m\u001b[1;33m.\u001b[0m\u001b[0mrecv_multipart\u001b[0m\u001b[1;33m(\u001b[0m\u001b[0mmode\u001b[0m\u001b[1;33m,\u001b[0m \u001b[0mcopy\u001b[0m\u001b[1;33m=\u001b[0m\u001b[0mcopy\u001b[0m\u001b[1;33m)\u001b[0m\u001b[1;33m\u001b[0m\u001b[1;33m\u001b[0m\u001b[0m\n\u001b[0m\u001b[0;32m    804\u001b[0m         \u001b[1;32mexcept\u001b[0m \u001b[0mzmq\u001b[0m\u001b[1;33m.\u001b[0m\u001b[0mZMQError\u001b[0m \u001b[1;32mas\u001b[0m \u001b[0me\u001b[0m\u001b[1;33m:\u001b[0m\u001b[1;33m\u001b[0m\u001b[1;33m\u001b[0m\u001b[0m\n",
      "\u001b[1;32m~\\anaconda3\\lib\\site-packages\\zmq\\sugar\\socket.py\u001b[0m in \u001b[0;36mrecv_multipart\u001b[1;34m(self, flags, copy, track)\u001b[0m\n\u001b[0;32m    474\u001b[0m         \"\"\"\n\u001b[1;32m--> 475\u001b[1;33m         \u001b[0mparts\u001b[0m \u001b[1;33m=\u001b[0m \u001b[1;33m[\u001b[0m\u001b[0mself\u001b[0m\u001b[1;33m.\u001b[0m\u001b[0mrecv\u001b[0m\u001b[1;33m(\u001b[0m\u001b[0mflags\u001b[0m\u001b[1;33m,\u001b[0m \u001b[0mcopy\u001b[0m\u001b[1;33m=\u001b[0m\u001b[0mcopy\u001b[0m\u001b[1;33m,\u001b[0m \u001b[0mtrack\u001b[0m\u001b[1;33m=\u001b[0m\u001b[0mtrack\u001b[0m\u001b[1;33m)\u001b[0m\u001b[1;33m]\u001b[0m\u001b[1;33m\u001b[0m\u001b[1;33m\u001b[0m\u001b[0m\n\u001b[0m\u001b[0;32m    476\u001b[0m         \u001b[1;31m# have first part already, only loop while more to receive\u001b[0m\u001b[1;33m\u001b[0m\u001b[1;33m\u001b[0m\u001b[1;33m\u001b[0m\u001b[0m\n",
      "\u001b[1;32mzmq/backend/cython/socket.pyx\u001b[0m in \u001b[0;36mzmq.backend.cython.socket.Socket.recv\u001b[1;34m()\u001b[0m\n",
      "\u001b[1;32mzmq/backend/cython/socket.pyx\u001b[0m in \u001b[0;36mzmq.backend.cython.socket.Socket.recv\u001b[1;34m()\u001b[0m\n",
      "\u001b[1;32mzmq/backend/cython/socket.pyx\u001b[0m in \u001b[0;36mzmq.backend.cython.socket._recv_copy\u001b[1;34m()\u001b[0m\n",
      "\u001b[1;32m~\\anaconda3\\lib\\site-packages\\zmq\\backend\\cython\\checkrc.pxd\u001b[0m in \u001b[0;36mzmq.backend.cython.checkrc._check_rc\u001b[1;34m()\u001b[0m\n",
      "\u001b[1;31mKeyboardInterrupt\u001b[0m: ",
      "\nDuring handling of the above exception, another exception occurred:\n",
      "\u001b[1;31mKeyboardInterrupt\u001b[0m                         Traceback (most recent call last)",
      "\u001b[1;32m<ipython-input-22-d0f104ab38b2>\u001b[0m in \u001b[0;36m<module>\u001b[1;34m\u001b[0m\n\u001b[0;32m     49\u001b[0m     \u001b[1;31m#print(\"3- Omaha hi/lo\")\u001b[0m\u001b[1;33m\u001b[0m\u001b[1;33m\u001b[0m\u001b[1;33m\u001b[0m\u001b[0m\n\u001b[0;32m     50\u001b[0m     \u001b[0mprint\u001b[0m\u001b[1;33m(\u001b[0m\u001b[1;34m\"0- Salir\"\u001b[0m\u001b[1;33m)\u001b[0m\u001b[1;33m\u001b[0m\u001b[1;33m\u001b[0m\u001b[0m\n\u001b[1;32m---> 51\u001b[1;33m     \u001b[0mopcion\u001b[0m \u001b[1;33m=\u001b[0m \u001b[0minput\u001b[0m\u001b[1;33m(\u001b[0m\u001b[1;34m\"Escoja el tipo de juego: \"\u001b[0m\u001b[1;33m)\u001b[0m\u001b[1;33m\u001b[0m\u001b[1;33m\u001b[0m\u001b[0m\n\u001b[0m\u001b[0;32m     52\u001b[0m \u001b[1;33m\u001b[0m\u001b[0m\n\u001b[0;32m     53\u001b[0m     \u001b[1;32mif\u001b[0m \u001b[0mopcion\u001b[0m \u001b[1;33m==\u001b[0m \u001b[1;34m\"1\"\u001b[0m\u001b[1;33m:\u001b[0m\u001b[1;33m\u001b[0m\u001b[1;33m\u001b[0m\u001b[0m\n",
      "\u001b[1;32m~\\anaconda3\\lib\\site-packages\\ipykernel\\kernelbase.py\u001b[0m in \u001b[0;36mraw_input\u001b[1;34m(self, prompt)\u001b[0m\n\u001b[0;32m    857\u001b[0m             \u001b[0mself\u001b[0m\u001b[1;33m.\u001b[0m\u001b[0m_parent_ident\u001b[0m\u001b[1;33m,\u001b[0m\u001b[1;33m\u001b[0m\u001b[1;33m\u001b[0m\u001b[0m\n\u001b[0;32m    858\u001b[0m             \u001b[0mself\u001b[0m\u001b[1;33m.\u001b[0m\u001b[0m_parent_header\u001b[0m\u001b[1;33m,\u001b[0m\u001b[1;33m\u001b[0m\u001b[1;33m\u001b[0m\u001b[0m\n\u001b[1;32m--> 859\u001b[1;33m             \u001b[0mpassword\u001b[0m\u001b[1;33m=\u001b[0m\u001b[1;32mFalse\u001b[0m\u001b[1;33m,\u001b[0m\u001b[1;33m\u001b[0m\u001b[1;33m\u001b[0m\u001b[0m\n\u001b[0m\u001b[0;32m    860\u001b[0m         )\n\u001b[0;32m    861\u001b[0m \u001b[1;33m\u001b[0m\u001b[0m\n",
      "\u001b[1;32m~\\anaconda3\\lib\\site-packages\\ipykernel\\kernelbase.py\u001b[0m in \u001b[0;36m_input_request\u001b[1;34m(self, prompt, ident, parent, password)\u001b[0m\n\u001b[0;32m    887\u001b[0m             \u001b[1;32mexcept\u001b[0m \u001b[0mKeyboardInterrupt\u001b[0m\u001b[1;33m:\u001b[0m\u001b[1;33m\u001b[0m\u001b[1;33m\u001b[0m\u001b[0m\n\u001b[0;32m    888\u001b[0m                 \u001b[1;31m# re-raise KeyboardInterrupt, to truncate traceback\u001b[0m\u001b[1;33m\u001b[0m\u001b[1;33m\u001b[0m\u001b[1;33m\u001b[0m\u001b[0m\n\u001b[1;32m--> 889\u001b[1;33m                 \u001b[1;32mraise\u001b[0m \u001b[0mKeyboardInterrupt\u001b[0m\u001b[1;33m\u001b[0m\u001b[1;33m\u001b[0m\u001b[0m\n\u001b[0m\u001b[0;32m    890\u001b[0m             \u001b[1;32melse\u001b[0m\u001b[1;33m:\u001b[0m\u001b[1;33m\u001b[0m\u001b[1;33m\u001b[0m\u001b[0m\n\u001b[0;32m    891\u001b[0m                 \u001b[1;32mbreak\u001b[0m\u001b[1;33m\u001b[0m\u001b[1;33m\u001b[0m\u001b[0m\n",
      "\u001b[1;31mKeyboardInterrupt\u001b[0m: "
     ]
    }
   ],
   "source": [
    "import random\n",
    "\n",
    "# Numeros correspondientes a las cartas\n",
    "# - El 1 == A o equivalente a 14\n",
    "# - El 11 = J, 12 = Q y 13 = K\n",
    "# - C = corazones rojos, T = Trébol, D = Diamante, N = Corazones negros\n",
    "numeros = [1,2,3,4,5,6,7,8,9,10,11,12,13]\n",
    "palos = [\"C\",\"T\",\"D\",\"N\"]\n",
    "\n",
    "# Formación de las 52 cartas, una lista formada por tuplas\n",
    "cartas = []\n",
    "\n",
    "for n in numeros:\n",
    "    for p in palos:\n",
    "        cartas.append((n,p))\n",
    "\n",
    "#print(\"Cartas:\\n\", cartas)\n",
    "\n",
    "# Código para barajar las cartas\n",
    "cartas_barajadas = random.sample(cartas, k = len(cartas))\n",
    "cb = cartas_barajadas\n",
    "cb_original = cartas_barajadas\n",
    "print(\"Cartas barajadas:\\n\", cartas_barajadas,\"\\n\")\n",
    "\n",
    "def escalera_real(ju):\n",
    "    if (ju[0][0]==1 and ju[1][0]==10 and ju[2][0]==11 and ju[3][0]==12 and ju[4][0]==13):\n",
    "        print(\"Números forman escalera\")\n",
    "        if (ju[1][0]==ju[1][1] and ju[1][1]==ju[1][2] and ju[1][2]==ju[1][3] and ju[1][3]==ju[1][4]):\n",
    "            solucion = \"Escalera real\"\n",
    "        else:\n",
    "            solucion = \"No es escalera real\"\n",
    "    else: \n",
    "        solucion = \"Nada\"\n",
    "    return solucion\n",
    "\n",
    "\n",
    "def mano_ganadora(jugadores, num_jugadores):\n",
    "    print(\"\\nMANO DE CADA JUGADOR\\n\")\n",
    "    jugador_ordenado = []\n",
    "    for j in range(len(jugadores)):\n",
    "        jugadores[j].sort(key=lambda x: x[0])\n",
    "        sol = escalera_real(jugadores[j])\n",
    "        print(\"Mano Jugador\",j+1,\":\", jugadores[j],\" Solucion: \", sol)\n",
    "\n",
    "opcion = \"\"\n",
    "while opcion != \"0\":\n",
    "    print(\"1- Póker clásico\")\n",
    "    #print(\"2- Texas Hold-em\")\n",
    "    #print(\"3- Omaha hi/lo\")\n",
    "    print(\"0- Salir\")\n",
    "    opcion = input(\"Escoja el tipo de juego: \")\n",
    "    \n",
    "    if opcion == \"1\":\n",
    "        #Determinar si número de jugadores ingresados se encuentra en el rango\n",
    "        num_jugadores = int(input(\"Ingresa el número de jugadores (Mínimo 2, Máximo 9): \"))\n",
    "        if (num_jugadores >= 2 and num_jugadores <= 9):\n",
    "            jugadores = []\n",
    "            # Creación de las listas de cada uno de los jugadores\n",
    "            for i in range(num_jugadores):\n",
    "                vars()[\"jugador{}\".format(i+1)] = []\n",
    "            \n",
    "            # Designación de cartas\n",
    "            contador = 2\n",
    "            partida = 1\n",
    "            while  contador > 1:\n",
    "                for j in range(5):\n",
    "                    for i in range(num_jugadores):\n",
    "                        locals()[\"jugador\"+str(i+1)].append(cb.pop(0)) \n",
    "                # Guardo jugadores en una lista        \n",
    "                for k in range(num_jugadores):\n",
    "                    jugadores.append(locals()[\"jugador\"+str(k+1)])\n",
    "                #print(\"\\n\",cb)\n",
    "                \n",
    "                #Impresión cartas de cada jugador\n",
    "                print((\"PARTIDA {}\".format(partida)).center(70,\"-\"))\n",
    "                for i in range(num_jugadores):\n",
    "                    print(\"Jugador\",i+1,\": {}\".format(locals()[\"jugador\"+str(i+1)]))\n",
    "                mano_ganadora(jugadores, num_jugadores)\n",
    "                poker(jugadores)\n",
    "                \n",
    "                \n",
    "                \n",
    "                ronda = input(\"¿Quiere jugar otra ronda (si/no)? \")\n",
    "                # Determino si quiero otra ronda o no\n",
    "                if ronda == \"si\":\n",
    "                    control = num_jugadores * 5\n",
    "                    print(control, len(cb))\n",
    "                    if control < len(cb):\n",
    "                        contador = 2\n",
    "                        partida +=1\n",
    "                        for k in range(num_jugadores):\n",
    "                            locals()[\"jugador\"+str(k+1)] = []\n",
    "                            jugadores = []\n",
    "                    else:\n",
    "                        contador = 1\n",
    "                else:\n",
    "                    contador = 1\n",
    "        else:\n",
    "            print(\"Número inválido de jugadores\\n\")\n",
    "\n",
    "\n"
   ]
  },
  {
   "cell_type": "code",
   "execution_count": null,
   "metadata": {},
   "outputs": [],
   "source": []
  }
 ],
 "metadata": {
  "interpreter": {
   "hash": "62b90768e223cbdd6bcbae5648c80ab9e966b87aff3925009086c7cfea272dad"
  },
  "kernelspec": {
   "display_name": "Python 3",
   "language": "python",
   "name": "python3"
  },
  "language_info": {
   "codemirror_mode": {
    "name": "ipython",
    "version": 3
   },
   "file_extension": ".py",
   "mimetype": "text/x-python",
   "name": "python",
   "nbconvert_exporter": "python",
   "pygments_lexer": "ipython3",
   "version": "3.7.6"
  }
 },
 "nbformat": 4,
 "nbformat_minor": 2
}
