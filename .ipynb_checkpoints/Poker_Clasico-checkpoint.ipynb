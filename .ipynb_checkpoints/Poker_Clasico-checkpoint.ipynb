{
 "cells": [
  {
   "cell_type": "markdown",
   "metadata": {},
   "source": [
    "# CÓDIGO POKER CLÁSICO"
   ]
  },
  {
   "cell_type": "markdown",
   "metadata": {},
   "source": [
    "## Paquetes a usar en el código"
   ]
  },
  {
   "cell_type": "code",
   "execution_count": 28,
   "metadata": {},
   "outputs": [],
   "source": [
    "import random \n",
    "import collections\n",
    "import numpy as np"
   ]
  },
  {
   "cell_type": "markdown",
   "metadata": {},
   "source": [
    "## Función: Formar barajas de cartas y barajarlas"
   ]
  },
  {
   "cell_type": "code",
   "execution_count": 29,
   "metadata": {},
   "outputs": [],
   "source": [
    "def formacion_cartas():\n",
    "    cartas_valor = [1,2,3,4,5,6,7,8,9,10,11,12,13]\n",
    "    cartas_palos = [\"C\",\"T\",\"D\",\"N\"]\n",
    "    cartas = []\n",
    "\n",
    "    for carta_valor in cartas_valor:\n",
    "        for carta_palos in cartas_palos:\n",
    "            cartas.append((carta_valor,carta_palos))\n",
    "\n",
    "    cartas_barajadas = random.sample(cartas,k=len(cartas))\n",
    "    return cartas_barajadas"
   ]
  },
  {
   "cell_type": "markdown",
   "metadata": {},
   "source": [
    "## Función: Identificar la mano que tiene cada jugador"
   ]
  },
  {
   "cell_type": "code",
   "execution_count": 30,
   "metadata": {},
   "outputs": [],
   "source": [
    "def manos(lista_jugadores):\n",
    "    respuesta = []\n",
    "    valores_suma = []\n",
    "    valor = 0\n",
    "    for jugador in lista_jugadores:\n",
    "        jugador.sort()\n",
    "        elementos_palos = []\n",
    "        elementos_valor = []\n",
    "        solucion = \"\"\n",
    "        for cartas_jugador in jugador:\n",
    "            elementos_palos.append(cartas_jugador[1]) # Lista de los palos de las 5 cartas del jugador\n",
    "            elementos_valor.append(cartas_jugador[0]) # Lista de los números de las 5 cartas del jugador\n",
    "            contador_palos = collections.Counter(elementos_palos)\n",
    "            contador_valor = collections.Counter(elementos_valor)\n",
    "            \n",
    "        array_elementos_valor = np.array(elementos_valor)\n",
    "        np.sort(array_elementos_valor)\n",
    "        diferencia = np.diff(array_elementos_valor)\n",
    "        contador_diferencia = collections.Counter(diferencia)\n",
    "        \n",
    "        if 5 in contador_palos.values() and 3 in contador_diferencia.values() and sum(elementos_valor) == 47:\n",
    "            solucion = \"Escalera real\"\n",
    "            valor = 47\n",
    "        elif 4 in contador_diferencia.values() and 5 in contador_palos.values():\n",
    "            solucion = \"Escalera de color\"\n",
    "            valor = sum(elementos_valor)\n",
    "        elif 4 in contador_valor.values():\n",
    "            solucion = \"Poker\"\n",
    "            valor = obtener_key(4,contador_valor)\n",
    "        elif 3 in contador_valor.values() and 2 in contador_valor.values():\n",
    "            solucion = \"Full house\"\n",
    "            valor = sum(elementos_valor)\n",
    "        elif 5 in contador_palos.values():\n",
    "            solucion = \"Color\"\n",
    "            valor = sum(elementos_valor)\n",
    "        elif 4 in contador_diferencia.values() or (contador_diferencia == dict({1:3, 9:1})):\n",
    "            solucion = \"Escalera\"    \n",
    "            valor = sum(elementos_valor)\n",
    "        elif 3 in contador_valor.values() and 1 in contador_valor.values():\n",
    "            solucion = \"Trío\"\n",
    "            valor = obtener_key(3,contador_valor)\n",
    "        elif 2 in contador_valor.values() and 1 in contador_valor.values():\n",
    "            cont = collections.Counter(contador_valor.values())\n",
    "            if 2 in cont.values():\n",
    "                solucion = \"Doble pareja\" \n",
    "                valor = obtener_key(2,contador_valor)\n",
    "            else:\n",
    "                solucion = \"Una pareja\"\n",
    "                valor = obtener_key(2,contador_valor)\n",
    "        else:\n",
    "            solucion = \"Carta alta\"\n",
    "            valor = max(elementos_valor)\n",
    "        respuesta.append(solucion) \n",
    "        valores_suma.append(valor)\n",
    "    return respuesta,valores_suma"
   ]
  },
  {
   "cell_type": "markdown",
   "metadata": {},
   "source": [
    "## Función: Auxiliar"
   ]
  },
  {
   "cell_type": "code",
   "execution_count": 31,
   "metadata": {},
   "outputs": [],
   "source": [
    "def obtener_key(numero_repetido,contador_valor):\n",
    "    suma = 0\n",
    "    for key, value in contador_valor.items():\n",
    "        if numero_repetido == value:\n",
    "            if key == 1:\n",
    "                suma += (14*numero_repetido)\n",
    "            else:\n",
    "                suma += (key*numero_repetido)\n",
    "    return(suma)"
   ]
  },
  {
   "cell_type": "markdown",
   "metadata": {},
   "source": [
    "## Función: Determinar mano ganadora"
   ]
  },
  {
   "cell_type": "code",
   "execution_count": 32,
   "metadata": {},
   "outputs": [],
   "source": [
    "def mano_ganadora(numero_jugadores, manos_jugadores, val_mayores):\n",
    "    lista_jugadores = []\n",
    "    info_completa = []\n",
    "    manos_valores = []\n",
    "    manos_iguales = []\n",
    "    ganador = []\n",
    "    valores_suma=[]\n",
    "    \n",
    "    # Diccionario manos póker\n",
    "    dicc_manos={1:\"Carta alta\",2:\"Una pareja\",3:\"Doble pareja\",4:\"Trío\",5:\"Escalera\",6:\"Color\",7:\"Full house\",\n",
    "                8:\"Poker\",9:\"Escalera de color\",10:\"Escalera real\"}\n",
    "    # Lista de jugadores\n",
    "    for i in range(numero_jugadores):\n",
    "        nombre = \"Jugador{}\".format(str(i+1))\n",
    "        lista_jugadores.append(nombre)\n",
    "    # Pongo valor a cada una de las manos identificadas\n",
    "    for mano in manos_jugadores:\n",
    "        for key, value in dicc_manos.items():\n",
    "            if mano == value:\n",
    "                manos_valores.append(key)\n",
    "    # Matriz: Jugador, key dicc mano, valores mano \n",
    "    for contador in range(numero_jugadores):\n",
    "        info_completa.append([lista_jugadores[contador],manos_valores[contador],val_mayores[contador]])\n",
    "    # Identifico mano más alta\n",
    "    for jugador in info_completa:\n",
    "        if jugador[1] == max(manos_valores):\n",
    "            manos_iguales.append(jugador)\n",
    "    # Vector formado por los val_mayores, solo de la mano más alta\n",
    "    for i in manos_iguales:\n",
    "        valores_suma.append(i[2])\n",
    "    # Identifico valor mayor, y encuentro a que jugador corresponde\n",
    "    for jugador in info_completa:\n",
    "        if jugador[2] == max(valores_suma):\n",
    "            ganador = jugador[0]\n",
    "    return ganador"
   ]
  },
  {
   "cell_type": "markdown",
   "metadata": {},
   "source": [
    "## Programa principal del Póker Clásico"
   ]
  },
  {
   "cell_type": "code",
   "execution_count": 35,
   "metadata": {},
   "outputs": [
    {
     "name": "stdout",
     "output_type": "stream",
     "text": [
      "1- Póker Clásico\n",
      "0- Salir\n",
      "Escoja el juego: 1\n",
      "\n",
      "Ingrese número de jugadores (Mínimo 2, Máximo 9): 8\n",
      "----------------------------------------RONDA 1---------------------------------------- \n",
      "\n",
      "Jugador1: [(6, 'N'), (6, 'T'), (7, 'N'), (9, 'D'), (12, 'T')]     Mano: Una pareja\n",
      "Jugador2: [(2, 'T'), (3, 'T'), (9, 'T'), (10, 'D'), (13, 'C')]    Mano: Carta alta\n",
      "Jugador3: [(1, 'N'), (7, 'T'), (8, 'D'), (12, 'N'), (13, 'D')]    Mano: Carta alta\n",
      "Jugador4: [(2, 'D'), (4, 'C'), (9, 'C'), (11, 'C'), (11, 'D')]    Mano: Una pareja\n",
      "Jugador5: [(3, 'C'), (3, 'N'), (5, 'D'), (6, 'D'), (8, 'T')]      Mano: Una pareja\n",
      "Jugador6: [(3, 'D'), (4, 'D'), (5, 'N'), (10, 'T'), (11, 'N')]    Mano: Carta alta\n",
      "Jugador7: [(1, 'T'), (4, 'T'), (5, 'C'), (5, 'T'), (6, 'C')]      Mano: Una pareja\n",
      "Jugador8: [(4, 'N'), (7, 'C'), (8, 'N'), (11, 'T'), (12, 'C')]    Mano: Carta alta\n",
      "\n",
      "Ganador ronda 1: Mano Jugador4!\n",
      "\n",
      "¿Quiere jugar otra ronda (SI/NO)? si\n",
      "----------------------------------------RONDA 2---------------------------------------- \n",
      "\n",
      "Jugador1: [(1, 'C'), (1, 'D'), (7, 'N'), (7, 'T'), (12, 'C')]     Mano: Doble pareja\n",
      "Jugador2: [(3, 'C'), (6, 'T'), (10, 'N'), (10, 'T'), (11, 'C')]   Mano: Una pareja\n",
      "Jugador3: [(1, 'T'), (2, 'C'), (6, 'N'), (9, 'N'), (10, 'C')]     Mano: Carta alta\n",
      "Jugador4: [(2, 'D'), (3, 'N'), (5, 'N'), (6, 'D'), (13, 'C')]     Mano: Carta alta\n",
      "Jugador5: [(7, 'C'), (9, 'T'), (11, 'D'), (12, 'T'), (13, 'D')]   Mano: Carta alta\n",
      "Jugador6: [(2, 'T'), (5, 'D'), (5, 'T'), (9, 'D'), (13, 'T')]     Mano: Una pareja\n",
      "Jugador7: [(1, 'N'), (3, 'D'), (4, 'D'), (8, 'C'), (8, 'N')]      Mano: Una pareja\n",
      "Jugador8: [(3, 'T'), (4, 'C'), (7, 'D'), (9, 'C'), (13, 'N')]     Mano: Carta alta\n",
      "\n",
      "Ganador ronda 2: Mano Jugador1!\n",
      "\n",
      "¿Quiere jugar otra ronda (SI/NO)? SI\n",
      "----------------------------------------RONDA 3---------------------------------------- \n",
      "\n",
      "Jugador1: [(1, 'T'), (2, 'N'), (4, 'D'), (7, 'N'), (8, 'N')]      Mano: Carta alta\n",
      "Jugador2: [(2, 'T'), (6, 'D'), (10, 'C'), (11, 'D'), (11, 'T')]   Mano: Una pareja\n",
      "Jugador3: [(4, 'C'), (5, 'N'), (6, 'N'), (9, 'C'), (9, 'D')]      Mano: Una pareja\n",
      "Jugador4: [(2, 'D'), (8, 'C'), (8, 'D'), (11, 'N'), (12, 'T')]    Mano: Una pareja\n",
      "Jugador5: [(3, 'T'), (6, 'T'), (11, 'C'), (12, 'D'), (12, 'N')]   Mano: Una pareja\n",
      "Jugador6: [(1, 'C'), (1, 'N'), (3, 'N'), (4, 'N'), (13, 'T')]     Mano: Una pareja\n",
      "Jugador7: [(2, 'C'), (4, 'T'), (5, 'C'), (10, 'D'), (13, 'N')]    Mano: Carta alta\n",
      "Jugador8: [(3, 'D'), (5, 'T'), (8, 'T'), (9, 'N'), (13, 'C')]     Mano: Carta alta\n",
      "\n",
      "Ganador ronda 3: Mano Jugador6!\n",
      "\n",
      "¿Quiere jugar otra ronda (SI/NO)? no\n",
      "1- Póker Clásico\n",
      "0- Salir\n",
      "Escoja el juego: 1\n",
      "\n",
      "Ingrese número de jugadores (Mínimo 2, Máximo 9): 2\n",
      "----------------------------------------RONDA 1---------------------------------------- \n",
      "\n",
      "Jugador1: [(3, 'N'), (5, 'D'), (6, 'N'), (10, 'C'), (10, 'D')]    Mano: Una pareja\n",
      "Jugador2: [(6, 'C'), (6, 'T'), (11, 'D'), (11, 'N'), (13, 'T')]   Mano: Doble pareja\n",
      "\n",
      "Ganador ronda 1: Mano Jugador2!\n",
      "\n",
      "¿Quiere jugar otra ronda (SI/NO)? no\n",
      "1- Póker Clásico\n",
      "0- Salir\n",
      "Escoja el juego: 0\n"
     ]
    }
   ],
   "source": [
    "opcion = \"\"\n",
    "\n",
    "while opcion != \"0\":\n",
    "    print(\"1- Póker Clásico\")\n",
    "    print(\"0- Salir\")\n",
    "    opcion = input(\"Escoja el juego: \")\n",
    "    \n",
    "    if opcion == \"1\":\n",
    "        \n",
    "        numero_jugadores = int(input(\"\\nIngrese número de jugadores (Mínimo 2, Máximo 9): \"))\n",
    "        if (numero_jugadores >= 2 and numero_jugadores <= 9):\n",
    "            cartas_barajadas = formacion_cartas()\n",
    "            \n",
    "            # Creación de cada jugador como variable (tipo lista)\n",
    "            for numero in range(numero_jugadores):\n",
    "                vars()[\"jugador{}\".format(numero+1)] = []\n",
    "            \n",
    "            # CÓDIGO JUEGO\n",
    "            continua_juego=True\n",
    "            lista_jugadores=[]\n",
    "            numero_ronda=1\n",
    "            cartas_a_repartir=5\n",
    "            manos_jugadores=[]\n",
    "            \n",
    "            while continua_juego:\n",
    "                # Reparto cartas a los jugadores\n",
    "                for j in range(cartas_a_repartir):\n",
    "                    for i in range(numero_jugadores):\n",
    "                        locals()[\"jugador\"+str(i+1)].append(cartas_barajadas.pop(0))\n",
    "                        \n",
    "                #Guardo jugadores con sus cartas en: lista_jugadores\n",
    "                for k in range(numero_jugadores):\n",
    "                    lista_jugadores.append(locals()[\"jugador\"+str(k+1)])\n",
    "                \n",
    "                # Identificación mano de cada jugador\n",
    "                manos_jugadores, val_mayores = manos(lista_jugadores)\n",
    "            \n",
    "                # Imprimo cartas de los jugadores, y determino mano ganadora de la ronda\n",
    "                print((\"RONDA {}\".format(numero_ronda)).center(87,\"-\"),\"\\n\")\n",
    "                for i in range(numero_jugadores):\n",
    "                    print(\"Jugador{}: {} \".format(str(i+1),locals()[\"jugador\"+str(i+1)]).ljust(65,\" \"),\"Mano:\".ljust(5,\" \"),manos_jugadores[i])\n",
    "                \n",
    "                # Encuentro ganador de la ronda\n",
    "                ganador = mano_ganadora(numero_jugadores, manos_jugadores, val_mayores)\n",
    "                print(\"\\nGanador ronda {}: Mano {}!\".format(numero_ronda, ganador))\n",
    "                \n",
    "                # Determino si quiero otra ronda o no\n",
    "                ronda = input(\"\\n¿Quiere jugar otra ronda (SI/NO)? \").upper()\n",
    "                \n",
    "                if ronda == \"SI\":\n",
    "                    numero_cartas = numero_jugadores * 5\n",
    "                    numero_ronda +=1\n",
    "                    if numero_cartas >= len(cartas_barajadas):\n",
    "                        cartas_barajadas = formacion_cartas()\n",
    "                    for k in range(numero_jugadores):\n",
    "                        locals()[\"jugador\"+str(k+1)] = []\n",
    "                        lista_jugadores = []    \n",
    "                else:\n",
    "                    continua_juego = False           \n",
    "        else:\n",
    "            print(\"\\nNúmero inválido de jugadores\\n\")"
   ]
  },
  {
   "cell_type": "code",
   "execution_count": null,
   "metadata": {},
   "outputs": [],
   "source": []
  }
 ],
 "metadata": {
  "interpreter": {
   "hash": "62b90768e223cbdd6bcbae5648c80ab9e966b87aff3925009086c7cfea272dad"
  },
  "kernelspec": {
   "display_name": "Python 3",
   "language": "python",
   "name": "python3"
  },
  "language_info": {
   "codemirror_mode": {
    "name": "ipython",
    "version": 3
   },
   "file_extension": ".py",
   "mimetype": "text/x-python",
   "name": "python",
   "nbconvert_exporter": "python",
   "pygments_lexer": "ipython3",
   "version": "3.7.6"
  }
 },
 "nbformat": 4,
 "nbformat_minor": 2
}
